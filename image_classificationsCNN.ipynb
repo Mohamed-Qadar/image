{
  "nbformat": 4,
  "nbformat_minor": 0,
  "metadata": {
    "colab": {
      "provenance": [],
      "gpuType": "T4",
      "authorship_tag": "ABX9TyMOaRiGwm576xrwbbzAAH/4",
      "include_colab_link": true
    },
    "kernelspec": {
      "name": "python3",
      "display_name": "Python 3"
    },
    "language_info": {
      "name": "python"
    },
    "accelerator": "GPU"
  },
  "cells": [
    {
      "cell_type": "markdown",
      "metadata": {
        "id": "view-in-github",
        "colab_type": "text"
      },
      "source": [
        "<a href=\"https://colab.research.google.com/github/Mohamed-Qadar/image/blob/main/image_classificationsCNN.ipynb\" target=\"_parent\"><img src=\"https://colab.research.google.com/assets/colab-badge.svg\" alt=\"Open In Colab\"/></a>"
      ]
    },
    {
      "cell_type": "code",
      "source": [
        "from google.colab import drive\n",
        "drive.mount('/content/drive')"
      ],
      "metadata": {
        "colab": {
          "base_uri": "https://localhost:8080/"
        },
        "id": "F6N_wzPXPF1i",
        "outputId": "dbbcdc15-79e2-435c-a200-f91346cd0e23"
      },
      "execution_count": 2,
      "outputs": [
        {
          "output_type": "stream",
          "name": "stdout",
          "text": [
            "Mounted at /content/drive\n"
          ]
        }
      ]
    },
    {
      "cell_type": "markdown",
      "source": [
        "## image classifications using CNN Method"
      ],
      "metadata": {
        "id": "zJpS4iJvzu2D"
      }
    },
    {
      "cell_type": "code",
      "source": [
        "# coding: utf-8\n",
        "\n",
        "import tensorflow as tf\n",
        "from tensorflow.keras.models import Sequential\n",
        "from tensorflow.keras.layers import Convolution2D, MaxPooling2D, Flatten, Dense\n",
        "from tensorflow.keras.preprocessing.image import ImageDataGenerator\n",
        "import numpy as np\n",
        "from tensorflow.keras.preprocessing import image\n",
        "import os\n",
        "\n",
        "# Google Drive'ı bağlayın\n",
        "drive.mount('/content/drive')\n",
        "\n",
        "# Initialising the CNN\n",
        "classifier = Sequential()\n",
        "\n",
        "# Step 1 - Convolution\n",
        "classifier.add(Convolution2D(32, (3, 3), input_shape=(64, 64, 3), activation='relu'))\n",
        "\n",
        "# Step 2 - Pooling\n",
        "classifier.add(MaxPooling2D(pool_size=(2, 2)))\n",
        "\n",
        "# Adding a second convolutional layer\n",
        "classifier.add(Convolution2D(32, (3, 3), activation='relu'))\n",
        "classifier.add(MaxPooling2D(pool_size=(2, 2)))\n",
        "\n",
        "# Step 3 - Flattening\n",
        "classifier.add(Flatten())\n",
        "\n",
        "# Step 4 - Full connection\n",
        "classifier.add(Dense(units=128, activation='relu'))\n",
        "classifier.add(Dense(units=1, activation='sigmoid'))\n",
        "\n",
        "# Compiling the CNN\n",
        "classifier.compile(optimizer='adam', loss='binary_crossentropy', metrics=['accuracy'])\n",
        "\n",
        "# Fitting the CNN to the images\n",
        "train_datagen = ImageDataGenerator(rescale=1./255,\n",
        "                                   shear_range=0.2,\n",
        "                                   zoom_range=0.2,\n",
        "                                   horizontal_flip=True)\n",
        "\n",
        "test_datagen = ImageDataGenerator(rescale=1./255)\n",
        "\n",
        "# Veri setlerini yükleme\n",
        "training_set = train_datagen.flow_from_directory('/content/drive/MyDrive/imageClassificationsCNN/training_set',\n",
        "                                                 target_size=(64, 64),\n",
        "                                                 batch_size=32,\n",
        "                                                 class_mode='binary')\n",
        "\n",
        "test_set = test_datagen.flow_from_directory('/content/drive/MyDrive/imageClassificationsCNN/test_set',\n",
        "                                            target_size=(64, 64),\n",
        "                                            batch_size=32,\n",
        "                                            class_mode='binary')\n",
        "\n",
        "# Modeli eğitme\n",
        "classifier.fit(training_set,\n",
        "                steps_per_epoch=len(training_set),\n",
        "                epochs=3,  # epochs = 25,\n",
        "                validation_data=test_set,\n",
        "                validation_steps=len(test_set))\n",
        "\n",
        "# Test görüntüsünü yükleme ve tahmin yapma\n",
        "test_image = image.load_img('/content/drive/MyDrive/imageClassificationsCNN/single_prediction/cat_or_dog_1.jpg', target_size=(64, 64))\n",
        "test_image = image.img_to_array(test_image)\n",
        "test_image = np.expand_dims(test_image, axis=0)\n",
        "\n",
        "result = classifier.predict(test_image)\n",
        "\n",
        "# Tahmin sonuçlarını alma\n",
        "print(training_set.class_indices)\n",
        "\n",
        "if result[0][0] == 1:\n",
        "    prediction = 'dog'\n",
        "else:\n",
        "    prediction = 'cat'\n",
        "print(prediction)\n",
        "\n",
        "# İkinci test görüntüsünü yükleme ve tahmin yapma\n",
        "test_image = image.load_img('/content/drive/MyDrive/imageClassificationsCNN/single_prediction/cat_or_dog_2.jpg', target_size=(64, 64))\n",
        "test_image = image.img_to_array(test_image)\n",
        "test_image = np.expand_dims(test_image, axis=0)\n",
        "result = classifier.predict(test_image)\n",
        "\n",
        "if result[0][0] == 1:\n",
        "    prediction = 'dog'\n",
        "else:\n",
        "    prediction = 'cat'\n",
        "print(prediction)"
      ],
      "metadata": {
        "colab": {
          "base_uri": "https://localhost:8080/"
        },
        "id": "wP1osb47Vppw",
        "outputId": "792f99ea-5e64-4ccc-98cd-d1f858401881"
      },
      "execution_count": null,
      "outputs": [
        {
          "output_type": "stream",
          "name": "stdout",
          "text": [
            "Drive already mounted at /content/drive; to attempt to forcibly remount, call drive.mount(\"/content/drive\", force_remount=True).\n"
          ]
        },
        {
          "output_type": "stream",
          "name": "stderr",
          "text": [
            "/usr/local/lib/python3.10/dist-packages/keras/src/layers/convolutional/base_conv.py:107: UserWarning: Do not pass an `input_shape`/`input_dim` argument to a layer. When using Sequential models, prefer using an `Input(shape)` object as the first layer in the model instead.\n",
            "  super().__init__(activity_regularizer=activity_regularizer, **kwargs)\n"
          ]
        },
        {
          "output_type": "stream",
          "name": "stdout",
          "text": [
            "Found 8010 images belonging to 2 classes.\n",
            "Found 2000 images belonging to 2 classes.\n",
            "Epoch 1/3\n"
          ]
        },
        {
          "output_type": "stream",
          "name": "stderr",
          "text": [
            "/usr/local/lib/python3.10/dist-packages/keras/src/trainers/data_adapters/py_dataset_adapter.py:122: UserWarning: Your `PyDataset` class should call `super().__init__(**kwargs)` in its constructor. `**kwargs` can include `workers`, `use_multiprocessing`, `max_queue_size`. Do not pass these arguments to `fit()`, as they will be ignored.\n",
            "  self._warn_if_super_not_called()\n"
          ]
        },
        {
          "output_type": "stream",
          "name": "stdout",
          "text": [
            "\u001b[1m214/251\u001b[0m \u001b[32m━━━━━━━━━━━━━━━━━\u001b[0m\u001b[37m━━━\u001b[0m \u001b[1m4:14\u001b[0m 7s/step - accuracy: 0.5532 - loss: 0.6893"
          ]
        }
      ]
    },
    {
      "cell_type": "markdown",
      "source": [
        "## Gerekli olan Kutuphaneleri"
      ],
      "metadata": {
        "id": "G6KgtBONy-l0"
      }
    },
    {
      "cell_type": "code",
      "source": [
        "import tensorflow as tf\n",
        "from tensorflow.keras.models import Sequential\n",
        "from tensorflow.keras.layers import Convolution2D, MaxPooling2D, Flatten, Dense\n",
        "from tensorflow.keras.preprocessing.image import ImageDataGenerator\n",
        "import numpy as np\n",
        "from tensorflow.keras.preprocessing import image\n",
        "import os"
      ],
      "metadata": {
        "id": "npzB3IhSxQXL"
      },
      "execution_count": null,
      "outputs": []
    },
    {
      "cell_type": "markdown",
      "source": [
        "# Modelin Tanımlanması"
      ],
      "metadata": {
        "id": "PLpOxmUdypcK"
      }
    },
    {
      "cell_type": "code",
      "source": [
        "# Modeli Başlatma\n",
        "classifier = Sequential()\n",
        "\n",
        "# İlk Convolutional Katmanı\n",
        "classifier.add(Convolution2D(32, (3, 3), input_shape=(64, 64, 3), activation='relu'))\n",
        "classifier.add(MaxPooling2D(pool_size=(2, 2)))\n",
        "classifier.add(Dropout(0.25))\n",
        "\n",
        "# İkinci Convolutional Katmanı\n",
        "classifier.add(Convolution2D(64, (3, 3), activation='relu'))\n",
        "classifier.add(MaxPooling2D(pool_size=(2, 2)))\n",
        "classifier.add(Dropout(0.25))\n",
        "\n",
        "# Üçüncü Convolutional Katmanı\n",
        "classifier.add(Convolution2D(128, (3, 3), activation='relu'))\n",
        "classifier.add(MaxPooling2D(pool_size=(2, 2)))\n",
        "classifier.add(Dropout(0.25))\n",
        "\n",
        "# Flattening (Düzleştirme)\n",
        "classifier.add(Flatten())\n",
        "\n",
        "# Tam Bağlantı\n",
        "classifier.add(Dense(units=512, activation='relu'))\n",
        "classifier.add(Dropout(0.5))\n",
        "classifier.add(Dense(units=1, activation='sigmoid'))\n",
        "\n",
        "# Modelin Derlenmesi\n",
        "classifier.compile(optimizer='adam', loss='binary_crossentropy', metrics=['accuracy'])\n"
      ],
      "metadata": {
        "id": "ISGT85_YtgU9"
      },
      "execution_count": null,
      "outputs": []
    },
    {
      "cell_type": "markdown",
      "source": [
        "# Veri İşleme ve Veri Yükleme"
      ],
      "metadata": {
        "id": "CEynNuXCyf7A"
      }
    },
    {
      "cell_type": "code",
      "source": [
        "# Eğitim ve test veri artırma\n",
        "train_datagen = ImageDataGenerator(rescale=1./255,\n",
        "                                   shear_range=0.2,\n",
        "                                   zoom_range=0.2,\n",
        "                                   horizontal_flip=True)\n",
        "\n",
        "test_datagen = ImageDataGenerator(rescale=1./255)\n",
        "\n",
        "# Eğitim ve test setlerini yükleme\n",
        "training_set = train_datagen.flow_from_directory('/content/drive/MyDrive/imageClassificationsCNN/training_set',\n",
        "                                                 target_size=(64, 64),\n",
        "                                                 batch_size=32,\n",
        "                                                 class_mode='binary')\n",
        "\n",
        "test_set = test_datagen.flow_from_directory('/content/drive/MyDrive/imageClassificationsCNN/test_set',\n",
        "                                            target_size=(64, 64),\n",
        "                                            batch_size=32,\n",
        "                                            class_mode='binary')\n"
      ],
      "metadata": {
        "id": "T1AXB-zuxiE4"
      },
      "execution_count": null,
      "outputs": []
    },
    {
      "cell_type": "markdown",
      "source": [
        "\n",
        "Model eğitimi ve doğrulama verileri"
      ],
      "metadata": {
        "id": "gQCzb8SByQP5"
      }
    },
    {
      "cell_type": "code",
      "source": [
        "# Early stopping ile model eğitimi\n",
        "early_stopping = tf.keras.callbacks.EarlyStopping(monitor='val_loss', patience=5)\n",
        "\n",
        "classifier.fit(training_set,\n",
        "               steps_per_epoch=len(training_set),\n",
        "               epochs=25,\n",
        "               validation_data=test_set,\n",
        "               validation_steps=len(test_set),\n",
        "               callbacks=[early_stopping])\n"
      ],
      "metadata": {
        "id": "f_qfq52wxmRt"
      },
      "execution_count": null,
      "outputs": []
    },
    {
      "cell_type": "markdown",
      "source": [
        "Tahmin Fonksiyonu"
      ],
      "metadata": {
        "id": "KW0iB53RyGf-"
      }
    },
    {
      "cell_type": "code",
      "source": [
        "# Tahmin fonksiyonu\n",
        "def predict_image(image_path):\n",
        "    test_image = image.load_img(image_path, target_size=(64, 64))\n",
        "    test_image = image.img_to_array(test_image)\n",
        "    test_image = np.expand_dims(test_image, axis=0)\n",
        "    result = classifier.predict(test_image)\n",
        "    return 'dog' if result[0][0] >= 0.5 else 'cat'\n"
      ],
      "metadata": {
        "id": "x5lb6MRZxuun"
      },
      "execution_count": null,
      "outputs": []
    },
    {
      "cell_type": "markdown",
      "source": [
        "Performans Değerlendirme"
      ],
      "metadata": {
        "id": "qUjDeGSEx6V-"
      }
    },
    {
      "cell_type": "code",
      "source": [
        "from sklearn.metrics import accuracy_score, precision_score, recall_score, f1_score\n",
        "\n",
        "# Tahminleri hesaplama\n",
        "y_true = test_set.classes\n",
        "y_pred = classifier.predict(test_set)\n",
        "y_pred = (y_pred > 0.5).astype(int).flatten()\n",
        "\n",
        "# Metriklerin hesaplanması\n",
        "accuracy = accuracy_score(y_true, y_pred)\n",
        "precision = precision_score(y_true, y_pred)\n",
        "recall = recall_score(y_true, y_pred)\n",
        "f1 = f1_score(y_true, y_pred)\n",
        "\n",
        "print(f\"Doğruluk (Accuracy): {accuracy:.2f}\")\n",
        "print(f\"Hassasiyet (Precision): {precision:.2f}\")\n",
        "print(f\"Hatırlama (Recall): {recall:.2f}\")\n",
        "print(f\"F1 Skoru: {f1:.2f}\")\n"
      ],
      "metadata": {
        "id": "edouP-bSxxdI"
      },
      "execution_count": null,
      "outputs": []
    }
  ]
}